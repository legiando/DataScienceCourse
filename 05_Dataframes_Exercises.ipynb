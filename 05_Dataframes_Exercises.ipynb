{
  "nbformat": 4,
  "nbformat_minor": 0,
  "metadata": {
    "colab": {
      "name": "05 Dataframes Exercises.ipynb",
      "version": "0.3.2",
      "provenance": [],
      "private_outputs": true,
      "collapsed_sections": [
        "kvD4HBMi0ohY",
        "b4Kjvk_h1AHl",
        "Y_2Cd36sWuvN",
        "NwU28K5f1H3P"
      ],
      "include_colab_link": true
    },
    "kernelspec": {
      "name": "python3",
      "display_name": "Python 3"
    },
    "accelerator": "GPU"
  },
  "cells": [
    {
      "cell_type": "markdown",
      "metadata": {
        "id": "view-in-github",
        "colab_type": "text"
      },
      "source": [
        "<a href=\"https://colab.research.google.com/github/legiando/DataScienceCourse/blob/master/05_Dataframes_Exercises.ipynb\" target=\"_parent\"><img src=\"https://colab.research.google.com/assets/colab-badge.svg\" alt=\"Open In Colab\"/></a>"
      ]
    },
    {
      "metadata": {
        "id": "3T3_FYC4ZBBE",
        "colab_type": "text"
      },
      "cell_type": "markdown",
      "source": [
        "# Dataframes Exercises\n",
        "\n",
        "\n"
      ]
    },
    {
      "metadata": {
        "id": "a4Jy9JGsPlcs",
        "colab_type": "text"
      },
      "cell_type": "markdown",
      "source": [
        ""
      ]
    },
    {
      "metadata": {
        "colab_type": "text",
        "id": "kvD4HBMi0ohY"
      },
      "cell_type": "markdown",
      "source": [
        "## Spark Bootstraping for Google Colab\n",
        "\n",
        "Run this before start working with the notebooks from the spark course. \n",
        "When you will start a new (and fresh) notebook at Colab. Google Cloud will create a new Docker container just for your use. \n",
        "\n",
        "Executing this notebook will install into the container the software. The container will be reused by the user until it will destroy by inactivity.\n"
      ]
    },
    {
      "metadata": {
        "colab_type": "code",
        "id": "fUhBhrGmyAvs",
        "colab": {}
      },
      "cell_type": "code",
      "source": [
        "!apt-get install openjdk-8-jdk-headless -qq > /dev/null\n",
        "!wget -q http://apache.osuosl.org/spark/spark-2.4.0/spark-2.4.0-bin-hadoop2.7.tgz\n",
        "!tar xf spark-2.4.0-bin-hadoop2.7.tgz\n",
        "!pip install -q findspark"
      ],
      "execution_count": 0,
      "outputs": []
    },
    {
      "metadata": {
        "colab_type": "text",
        "id": "b4Kjvk_h1AHl"
      },
      "cell_type": "markdown",
      "source": [
        "## Set Environment Variables\n",
        "Set the locations where Spark and Java are installed."
      ]
    },
    {
      "metadata": {
        "colab_type": "code",
        "id": "8Xnb_ePUyQIL",
        "colab": {}
      },
      "cell_type": "code",
      "source": [
        "import os\n",
        "os.environ[\"JAVA_HOME\"] = \"/usr/lib/jvm/java-8-openjdk-amd64\"\n",
        "os.environ[\"SPARK_HOME\"] = \"/content/spark-2.4.0-bin-hadoop2.7\"\n",
        "os.environ[\"PYSPARK_SUBMIT_ARGS\"] = \"--master local[2] pyspark-shell\""
      ],
      "execution_count": 0,
      "outputs": []
    },
    {
      "metadata": {
        "id": "Y_2Cd36sWuvN",
        "colab_type": "text"
      },
      "cell_type": "markdown",
      "source": [
        "## Cloning our Github repo"
      ]
    },
    {
      "metadata": {
        "colab_type": "code",
        "id": "PZkw_gPEQvId",
        "colab": {}
      },
      "cell_type": "code",
      "source": [
        "!rm -rf /content/SparkCourse2019/\n",
        "!git clone https://github.com/bazarum/SparkCourse2019.git"
      ],
      "execution_count": 0,
      "outputs": []
    },
    {
      "metadata": {
        "colab_type": "text",
        "id": "NwU28K5f1H3P"
      },
      "cell_type": "markdown",
      "source": [
        "## Start a SparkSession\n",
        "This will start a local Spark session."
      ]
    },
    {
      "metadata": {
        "colab_type": "code",
        "id": "zgReRGl0y23D",
        "colab": {}
      },
      "cell_type": "code",
      "source": [
        "import findspark\n",
        "print(findspark.init())\n",
        "\n",
        "from pyspark.sql import SparkSession\n",
        "\n",
        "spark = SparkSession.builder.master(\"local[*]\").getOrCreate()\n",
        "sc = spark.sparkContext\n"
      ],
      "execution_count": 0,
      "outputs": []
    },
    {
      "metadata": {
        "id": "jtUbhO4Zx92N",
        "colab_type": "text"
      },
      "cell_type": "markdown",
      "source": [
        "## (1) Open the dataset and Create the dataframe\n",
        "\n",
        "\n",
        "Dataset path: /content/SparkCourse2019/datasets/flight-data/csv/*.csv\n",
        "\n"
      ]
    },
    {
      "metadata": {
        "id": "0Luher6iBmkw",
        "colab_type": "code",
        "colab": {}
      },
      "cell_type": "code",
      "source": [
        ""
      ],
      "execution_count": 0,
      "outputs": []
    },
    {
      "metadata": {
        "id": "f_Tc5WsUyKaQ",
        "colab_type": "text"
      },
      "cell_type": "markdown",
      "source": [
        "## (2) Explore it (Schema, content, etc)"
      ]
    },
    {
      "metadata": {
        "id": "ZvEWLppUC4KR",
        "colab_type": "code",
        "colab": {}
      },
      "cell_type": "code",
      "source": [
        ""
      ],
      "execution_count": 0,
      "outputs": []
    },
    {
      "metadata": {
        "id": "Xc28m-741Gp-",
        "colab_type": "text"
      },
      "cell_type": "markdown",
      "source": [
        "## (3) Some Questions "
      ]
    },
    {
      "metadata": {
        "id": "E60MHYh91M5J",
        "colab_type": "text"
      },
      "cell_type": "markdown",
      "source": [
        "##  (3.1) What are the 10 countries from which more flights depart?"
      ]
    },
    {
      "metadata": {
        "id": "trijZSwk1uiv",
        "colab_type": "text"
      },
      "cell_type": "markdown",
      "source": [
        "What are the 10 countries from which more flights depart?"
      ]
    },
    {
      "metadata": {
        "id": "aGWPyPOn2Aud",
        "colab_type": "code",
        "colab": {}
      },
      "cell_type": "code",
      "source": [
        ""
      ],
      "execution_count": 0,
      "outputs": []
    },
    {
      "metadata": {
        "id": "agXfq_FJ1zkT",
        "colab_type": "text"
      },
      "cell_type": "markdown",
      "source": [
        "##  (3.2) What are the 10 countries from which more flights arrive?"
      ]
    },
    {
      "metadata": {
        "id": "Pdt7guiD2u1i",
        "colab_type": "code",
        "colab": {}
      },
      "cell_type": "code",
      "source": [
        ""
      ],
      "execution_count": 0,
      "outputs": []
    },
    {
      "metadata": {
        "id": "BAr2kCbu1-Av",
        "colab_type": "text"
      },
      "cell_type": "markdown",
      "source": [
        "##  (3.3) How many countries have flights?\n"
      ]
    },
    {
      "metadata": {
        "id": "3QFlg3-B36ko",
        "colab_type": "code",
        "colab": {}
      },
      "cell_type": "code",
      "source": [
        ""
      ],
      "execution_count": 0,
      "outputs": []
    },
    {
      "metadata": {
        "id": "knYWB-B589DR",
        "colab_type": "text"
      },
      "cell_type": "markdown",
      "source": [
        "## (3.4) What are the more frecuent routes?"
      ]
    },
    {
      "metadata": {
        "id": "VrnN4YXk170D",
        "colab_type": "text"
      },
      "cell_type": "markdown",
      "source": [
        ""
      ]
    },
    {
      "metadata": {
        "id": "YK1u-AF59OOt",
        "colab_type": "code",
        "colab": {}
      },
      "cell_type": "code",
      "source": [
        ""
      ],
      "execution_count": 0,
      "outputs": []
    },
    {
      "metadata": {
        "id": "9py99ySe-zTl",
        "colab_type": "text"
      },
      "cell_type": "markdown",
      "source": [
        "## (3.5) Two question about the retail sales dataset we used at the previous lab \n",
        "\n",
        "path: /content/SparkCourse2019/datasets/retail-data/all/online-retail-dataset.csv\n",
        "\n",
        "**a) What are the itens with more sales (units)?**\n",
        "\n",
        "**b) Who are the customers that buy more (total amount)?**\n",
        "\n",
        "\n"
      ]
    },
    {
      "metadata": {
        "id": "GLpnlDO9v-65",
        "colab_type": "code",
        "colab": {}
      },
      "cell_type": "code",
      "source": [
        ""
      ],
      "execution_count": 0,
      "outputs": []
    }
  ]
}